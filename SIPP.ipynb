{
 "cells": [
  {
   "cell_type": "markdown",
   "metadata": {},
   "source": [
    "# Алгоритм SIPP и его модификации"
   ]
  },
  {
   "cell_type": "markdown",
   "metadata": {},
   "source": [
    "### Описание проекта"
   ]
  },
  {
   "cell_type": "markdown",
   "metadata": {},
   "source": [
    "В этом проекте будет рассматриваться задача планирования траектории на сетчатых 4-connected графах с динамическими препятствиями. Целью проекта является реализация и/или сравнение алгоритмов:\n",
    "- **AStar with timesteps**\n",
    "- **SIPP**\n",
    "- **Sub-optimal SIPP (WSIPP) with Re-expanded**\n",
    "- **Sub-optimal SIPP (WSIPP) with Dublicate States**\n",
    "- **Naive Anytime SIPP**\n",
    "\n",
    "Все алгоритмы будут использовать манхэттеновскую эвристикy.\n",
    "\n",
    "Алгоритм SIPP реализован без перераскрытий, так как доказано, что с такой эвристикой его решение будет оптимальным и без использования перераскрытий. Он будет сравниваться с AStar with timesteps.\n",
    "\n",
    "Было решено, что наиболее интересной исследовательской задачей будет сравнение двух вариантов Sub-optimal SIPP.\n",
    "\n",
    "Naive Anytime SIPP реализован с помощью последовательных запусков Sub-optimal SIPP с уменьшением параметра *w*. Было решено его реализовать, хотя он не является серьезным алгоритмом, так как он использует Sub-optimal SIPP."
   ]
  },
  {
   "cell_type": "markdown",
   "metadata": {},
   "source": [
    "Для начала импортируем все необходимые пакеты, вспомогательные функции и структуры и реализации алгоритмов:"
   ]
  },
  {
   "cell_type": "code",
   "execution_count": 1,
   "metadata": {},
   "outputs": [],
   "source": [
    "import copy\n",
    "import math\n",
    "import matplotlib.pyplot as plt\n",
    "import numpy as np\n",
    "import time\n",
    "\n",
    "from heapq import heappop, heappush, heapify\n",
    "from random import randint\n",
    "from IPython.display import HTML\n",
    "from PIL import Image, ImageDraw, ImageOps\n",
    "from IPython.display import Image as Img\n",
    "from IPython.display import display\n",
    "from sys import float_info\n",
    "from datetime import datetime\n",
    "from tqdm import tqdm\n",
    "\n",
    "EPS = float_info.epsilon\n",
    "%matplotlib notebook"
   ]
  },
  {
   "cell_type": "code",
   "execution_count": 2,
   "metadata": {},
   "outputs": [],
   "source": [
    "from src.grid import Map, SafeMap, manhattan_distance\n",
    "from src.utils import make_path, draw"
   ]
  },
  {
   "cell_type": "code",
   "execution_count": 3,
   "metadata": {},
   "outputs": [],
   "source": [
    "from src.algo.astar_timesteps import astar_timesteps, SearchTree as SearchTreeAStarTimesteps\n",
    "from src.algo.sipp import sipp, SearchTree as SearchTreeSIPP\n",
    "from src.algo.wsipp_r import wsipp_r, SearchTree as SearchTreeWSIPPR\n",
    "from src.algo.wsipp_d import wsipp_d, SearchTree as SearchTreeWSIPPD\n",
    "from src.algo.naive_arsipp import naive_arsipp"
   ]
  },
  {
   "cell_type": "markdown",
   "metadata": {},
   "source": [
    "### Описание хода эксперимента"
   ]
  },
  {
   "cell_type": "markdown",
   "metadata": {},
   "source": [
    "Хотелось сравнить AStar with timesteps и SIPP, а также Sub-optimal SIPP (WSIPP) with Re-expanded и Sub-optimal SIPP (WSIPP) with Dublicate States.\n",
    "\n",
    "Основной задачей было тестирование на картах с динамическими препятствиями, поэтому для сбора статистики были выбраны 4 карты: одна маленькая и 3 большие, обладающие разными свойствами.\n",
    "\n",
    "Для каждой карты была вручную выбрана конфигурация расположения старта и цели.\n",
    "\n",
    "Далее для каждой карты были случайным образом (с воспроизводимостью) сгенерированы 5 для маленькой и 50 для каждой большой карты конфигураций динамических препятствий. Количество динамических препятствий у конфигурации линейно зависит от её порядкового номера. \n",
    "\n",
    "Препятствия генерируются следующим образом: длина траектории (от 3 до 12), стартовая клетка пути и переходы на соседние клетки в таком количестве, чтобы соответствовало длине траектории. По стартовой клетке и переходам формируется список позиций траектории. Далее к нему в конец добавляется этот же список, но без первой и последней позиции и в обратном направлении. Когда препятствие достигает конца списка позиций, оно продолжает с начала списка, что формирует замкнутую траекторию, повторяющую себя в обоих направлениях.\n",
    "\n",
    "Далее собирается статистика для каждого запуска на карте с конкретной конфигурацией динамических препятствий."
   ]
  },
  {
   "cell_type": "markdown",
   "metadata": {},
   "source": [
    "### Описание используемых карт"
   ]
  },
  {
   "cell_type": "markdown",
   "metadata": {},
   "source": [
    "При сборе статистики используются 4 карты (можно посмотреть их изображения ниже): \n",
    "- **small**: маленькая карта-лабиринт\n",
    "-  часть **32room_007**: лабиринт комнат с узкими проходами между свободными пространствами.\n",
    "- часть **Paris_1_512**: город с достатоным объемом свободного пространства\n",
    "- часть **random512-15-0**: рандомная карта-шум с большим количеством статических препятствий"
   ]
  },
  {
   "cell_type": "markdown",
   "metadata": {},
   "source": [
    "<table><tr>\n",
    "<td> <img src=\"./images/small.jpg\" alt=\"32room_007\" style=\"width: 400px;\"/> </td>\n",
    "<td> <img src=\"./images/32room_007.png\" alt=\"32room_007\" style=\"width: 200px;\"/> </td>\n",
    "<td> <img src=\"./images/Paris_1_512.png\" alt=\"Paris_1_512\" style=\"width: 200px;\"/> </td>\n",
    "<td> <img src=\"./images/random512_15_0.png\" alt=\"random512_15_0\" style=\"width: 200px;\"/> </td>\n",
    "</tr></table>\n"
   ]
  },
  {
   "cell_type": "markdown",
   "metadata": {},
   "source": [
    "Карты отличаются общей идеей построения, внешним видом и плотностью расположения препятствий.\n",
    "\n",
    "Карта **small** маленькая, простая и наглядная. На ней может быть удобнее отслеживать простые зависимости.\n",
    "\n",
    "На карте **32room_007** узкие проходы соединяют свободные пространства. Это может давать интересные результаты при различных расположениях препятствий.\n",
    "\n",
    "На карте **Paris_1_512** много широких проходов. Ожидается, что препятствия будут не слишком сильно мешать построению пути.\n",
    "\n",
    "Карта **random512-15-0** довольно сильно загружена статическими препятствиями, что делает интересным добавление ещё и динамических препятствий."
   ]
  },
  {
   "cell_type": "markdown",
   "metadata": {},
   "source": [
    "### Описание собираемых статистик"
   ]
  },
  {
   "cell_type": "markdown",
   "metadata": {},
   "source": [
    "В собираемую во время каждого запуска статистику входят:\n",
    "- найден ли путь\n",
    "- длина найденного пути\n",
    "- во сколько раз найденный путь длиннее оптимального (для WSIPP)\n",
    "- количество шагов алгоритма (это также количество раскрытий)\n",
    "- количество созданных *Node*\n",
    "- время работы\n",
    "\n",
    "Перечисленные показатели дают информацию о:\n",
    "- оптимальности решений алгоритма\n",
    "- времени работы (количество шагов и фактическое) \n",
    "- использованной памяти\n",
    "\n",
    "Этих параметров должно хватать для оценки и сравнения предложенных для исследования алгоритмов."
   ]
  },
  {
   "cell_type": "code",
   "execution_count": 4,
   "metadata": {},
   "outputs": [],
   "source": [
    "from src.launch import launch_astar_timesteps, launch_sipp, launch_wsipp"
   ]
  },
  {
   "cell_type": "code",
   "execution_count": 5,
   "metadata": {},
   "outputs": [
    {
     "name": "stderr",
     "output_type": "stream",
     "text": [
      "2it [00:00, 12.45it/s]"
     ]
    },
    {
     "name": "stdout",
     "output_type": "stream",
     "text": [
      "Path found! Length: 52. Nodes created: 7311. Number of steps: 1692. Time: 0:00:00.053659\n",
      "Path found! Length: 52. Nodes created: 7206. Number of steps: 1669. Time: 0:00:00.095369\n",
      "Path found! Length: 52. Nodes created: 6964. Number of steps: 1635. Time: 0:00:00.054419\n"
     ]
    },
    {
     "name": "stderr",
     "output_type": "stream",
     "text": [
      "5it [00:00, 11.40it/s]"
     ]
    },
    {
     "name": "stdout",
     "output_type": "stream",
     "text": [
      "Path found! Length: 54. Nodes created: 9022. Number of steps: 2128. Time: 0:00:00.069146\n",
      "Path found! Length: 52. Nodes created: 6768. Number of steps: 1604. Time: 0:00:00.060605\n"
     ]
    },
    {
     "name": "stderr",
     "output_type": "stream",
     "text": [
      "\n"
     ]
    },
    {
     "ename": "KeyboardInterrupt",
     "evalue": "",
     "output_type": "error",
     "traceback": [
      "\u001b[0;31m---------------------------------------------------------------------------\u001b[0m",
      "\u001b[0;31mKeyboardInterrupt\u001b[0m                         Traceback (most recent call last)",
      "Cell \u001b[0;32mIn [5], line 2\u001b[0m\n\u001b[1;32m      1\u001b[0m astar_timesteps_small \u001b[38;5;241m=\u001b[39m launch_astar_timesteps(\u001b[38;5;124m\"\u001b[39m\u001b[38;5;124msmall\u001b[39m\u001b[38;5;124m\"\u001b[39m, \u001b[38;5;241m5\u001b[39m, manhattan_distance, SearchTreeAStarTimesteps)\n\u001b[0;32m----> 2\u001b[0m astar_timesteps_room \u001b[38;5;241m=\u001b[39m \u001b[43mlaunch_astar_timesteps\u001b[49m\u001b[43m(\u001b[49m\u001b[38;5;124;43m\"\u001b[39;49m\u001b[38;5;124;43m32room_007\u001b[39;49m\u001b[38;5;124;43m\"\u001b[39;49m\u001b[43m,\u001b[49m\u001b[43m \u001b[49m\u001b[38;5;241;43m50\u001b[39;49m\u001b[43m,\u001b[49m\u001b[43m \u001b[49m\u001b[43mmanhattan_distance\u001b[49m\u001b[43m,\u001b[49m\u001b[43m \u001b[49m\u001b[43mSearchTreeAStarTimesteps\u001b[49m\u001b[43m)\u001b[49m\n\u001b[1;32m      3\u001b[0m astar_timesteps_paris \u001b[38;5;241m=\u001b[39m launch_astar_timesteps(\u001b[38;5;124m\"\u001b[39m\u001b[38;5;124mParis_1_512\u001b[39m\u001b[38;5;124m\"\u001b[39m, \u001b[38;5;241m50\u001b[39m, manhattan_distance, SearchTreeAStarTimesteps)\n\u001b[1;32m      4\u001b[0m astar_timesteps_ran \u001b[38;5;241m=\u001b[39m launch_astar_timesteps(\u001b[38;5;124m\"\u001b[39m\u001b[38;5;124mrandom512-15-0\u001b[39m\u001b[38;5;124m\"\u001b[39m, \u001b[38;5;241m50\u001b[39m, manhattan_distance, SearchTreeAStarTimesteps)\n",
      "File \u001b[0;32m~/Desktop/university/homework/course_3/HeuristicSearch/project/SIPP-and-modifications/src/launch.py:80\u001b[0m, in \u001b[0;36mlaunch_astar_timesteps\u001b[0;34m(file_name, tasks_count, *args)\u001b[0m\n\u001b[1;32m     77\u001b[0m stat[\u001b[38;5;124m\"\u001b[39m\u001b[38;5;124mnodesCreated\u001b[39m\u001b[38;5;124m\"\u001b[39m] \u001b[38;5;241m=\u001b[39m []\n\u001b[1;32m     78\u001b[0m stat[\u001b[38;5;124m\"\u001b[39m\u001b[38;5;124mtime\u001b[39m\u001b[38;5;124m\"\u001b[39m] \u001b[38;5;241m=\u001b[39m []\n\u001b[0;32m---> 80\u001b[0m tasks \u001b[38;5;241m=\u001b[39m \u001b[43mgenerate_dynamic_obstacles_confs\u001b[49m\u001b[43m(\u001b[49m\u001b[43mtasks_count\u001b[49m\u001b[43m,\u001b[49m\u001b[43m \u001b[49m\u001b[43mgrid\u001b[49m\u001b[38;5;241;43m.\u001b[39;49m\u001b[43mget_size\u001b[49m\u001b[43m(\u001b[49m\u001b[43m)\u001b[49m\u001b[43m[\u001b[49m\u001b[38;5;241;43m0\u001b[39;49m\u001b[43m]\u001b[49m\u001b[43m,\u001b[49m\u001b[43m \u001b[49m\u001b[43mgrid\u001b[49m\u001b[38;5;241;43m.\u001b[39;49m\u001b[43mget_size\u001b[49m\u001b[43m(\u001b[49m\u001b[43m)\u001b[49m\u001b[43m[\u001b[49m\u001b[38;5;241;43m1\u001b[39;49m\u001b[43m]\u001b[49m\u001b[43m)\u001b[49m\n\u001b[1;32m     82\u001b[0m \u001b[38;5;28;01mfor\u001b[39;00m i, task \u001b[38;5;129;01min\u001b[39;00m tqdm(\u001b[38;5;28menumerate\u001b[39m(tasks)):\n\u001b[1;32m     83\u001b[0m     \u001b[38;5;28;01mtry\u001b[39;00m:   \n",
      "File \u001b[0;32m~/Desktop/university/homework/course_3/HeuristicSearch/project/SIPP-and-modifications/src/launch.py:53\u001b[0m, in \u001b[0;36mgenerate_dynamic_obstacles_confs\u001b[0;34m(count, height, width)\u001b[0m\n\u001b[1;32m     51\u001b[0m     conf_res \u001b[38;5;241m=\u001b[39m []\n\u001b[1;32m     52\u001b[0m     \u001b[38;5;28;01mfor\u001b[39;00m _ \u001b[38;5;129;01min\u001b[39;00m \u001b[38;5;28mrange\u001b[39m(\u001b[38;5;241m1000\u001b[39m):\n\u001b[0;32m---> 53\u001b[0m         conf_res \u001b[38;5;241m=\u001b[39m conf_res \u001b[38;5;241m+\u001b[39m conf\n\u001b[1;32m     54\u001b[0m     confs\u001b[38;5;241m.\u001b[39mappend(conf_res)\n\u001b[1;32m     56\u001b[0m tasks\u001b[38;5;241m.\u001b[39mappend(confs)\n",
      "\u001b[0;31mKeyboardInterrupt\u001b[0m: "
     ]
    }
   ],
   "source": [
    "astar_timesteps_small = launch_astar_timesteps(\"small\", 5, manhattan_distance, SearchTreeAStarTimesteps)\n",
    "astar_timesteps_room = launch_astar_timesteps(\"32room_007\", 50, manhattan_distance, SearchTreeAStarTimesteps)\n",
    "astar_timesteps_paris = launch_astar_timesteps(\"Paris_1_512\", 50, manhattan_distance, SearchTreeAStarTimesteps)\n",
    "astar_timesteps_ran = launch_astar_timesteps(\"random512-15-0\", 50, manhattan_distance, SearchTreeAStarTimesteps)\n"
   ]
  },
  {
   "cell_type": "code",
   "execution_count": 22,
   "metadata": {},
   "outputs": [
    {
     "name": "stderr",
     "output_type": "stream",
     "text": [
      "3it [00:00, 23.86it/s]"
     ]
    },
    {
     "name": "stdout",
     "output_type": "stream",
     "text": [
      "Path found! Length: 52. Nodes created: 780. Number of steps: 241. Time: 0:00:00.011120\n",
      "Path found! Length: 53. Nodes created: 4021. Number of steps: 247. Time: 0:00:00.050236\n",
      "Path found! Length: 52. Nodes created: 4738. Number of steps: 253. Time: 0:00:00.044206\n",
      "Path found! Length: 52. Nodes created: 6545. Number of steps: 256. Time: 0:00:00.068327\n"
     ]
    },
    {
     "name": "stderr",
     "output_type": "stream",
     "text": [
      "\r",
      "5it [00:00, 13.24it/s]"
     ]
    },
    {
     "name": "stdout",
     "output_type": "stream",
     "text": [
      "Path found! Length: 53. Nodes created: 12362. Number of steps: 288. Time: 0:00:00.138350\n"
     ]
    },
    {
     "name": "stderr",
     "output_type": "stream",
     "text": [
      "\n",
      "2it [00:00, 18.81it/s]"
     ]
    },
    {
     "name": "stdout",
     "output_type": "stream",
     "text": [
      "Path found! Length: 110. Nodes created: 5422. Number of steps: 1392. Time: 0:00:00.042787\n",
      "Path found! Length: 110. Nodes created: 5422. Number of steps: 1392. Time: 0:00:00.041518\n",
      "Path found! Length: 110. Nodes created: 20056. Number of steps: 1197. Time: 0:00:00.189119\n"
     ]
    },
    {
     "name": "stderr",
     "output_type": "stream",
     "text": [
      "\r",
      "4it [00:01,  2.10it/s]"
     ]
    },
    {
     "name": "stdout",
     "output_type": "stream",
     "text": [
      "Path found! Length: 110. Nodes created: 15927. Number of steps: 1003. Time: 0:00:00.224898\n"
     ]
    },
    {
     "name": "stderr",
     "output_type": "stream",
     "text": [
      "\r",
      "5it [00:02,  1.92it/s]"
     ]
    },
    {
     "name": "stdout",
     "output_type": "stream",
     "text": [
      "Path found! Length: 110. Nodes created: 18245. Number of steps: 1395. Time: 0:00:00.191526\n"
     ]
    },
    {
     "name": "stderr",
     "output_type": "stream",
     "text": [
      "\r",
      "6it [00:02,  1.97it/s]"
     ]
    },
    {
     "name": "stdout",
     "output_type": "stream",
     "text": [
      "Path found! Length: 110. Nodes created: 10898. Number of steps: 761. Time: 0:00:00.112267\n"
     ]
    },
    {
     "name": "stderr",
     "output_type": "stream",
     "text": [
      "\r",
      "7it [00:03,  1.50it/s]"
     ]
    },
    {
     "name": "stdout",
     "output_type": "stream",
     "text": [
      "Path found! Length: 110. Nodes created: 34736. Number of steps: 1469. Time: 0:00:00.346824\n"
     ]
    },
    {
     "name": "stderr",
     "output_type": "stream",
     "text": [
      "\r",
      "8it [00:04,  1.56it/s]"
     ]
    },
    {
     "name": "stdout",
     "output_type": "stream",
     "text": [
      "Path found! Length: 110. Nodes created: 17431. Number of steps: 797. Time: 0:00:00.176710\n"
     ]
    },
    {
     "name": "stderr",
     "output_type": "stream",
     "text": [
      "8it [00:05,  1.49it/s]\n"
     ]
    },
    {
     "ename": "KeyboardInterrupt",
     "evalue": "",
     "output_type": "error",
     "traceback": [
      "\u001b[0;31m---------------------------------------------------------------------------\u001b[0m",
      "\u001b[0;31mKeyboardInterrupt\u001b[0m                         Traceback (most recent call last)",
      "Cell \u001b[0;32mIn [22], line 2\u001b[0m\n\u001b[1;32m      1\u001b[0m sipp_small \u001b[38;5;241m=\u001b[39m launch_sipp(\u001b[38;5;124m\"\u001b[39m\u001b[38;5;124msmall\u001b[39m\u001b[38;5;124m\"\u001b[39m, \u001b[38;5;241m5\u001b[39m, manhattan_distance, SearchTreeSIPP)\n\u001b[0;32m----> 2\u001b[0m sipp_room \u001b[38;5;241m=\u001b[39m \u001b[43mlaunch_sipp\u001b[49m\u001b[43m(\u001b[49m\u001b[38;5;124;43m\"\u001b[39;49m\u001b[38;5;124;43m32room_007\u001b[39;49m\u001b[38;5;124;43m\"\u001b[39;49m\u001b[43m,\u001b[49m\u001b[43m \u001b[49m\u001b[38;5;241;43m50\u001b[39;49m\u001b[43m,\u001b[49m\u001b[43m \u001b[49m\u001b[43mmanhattan_distance\u001b[49m\u001b[43m,\u001b[49m\u001b[43m \u001b[49m\u001b[43mSearchTreeSIPP\u001b[49m\u001b[43m)\u001b[49m\n\u001b[1;32m      3\u001b[0m sipp_paris \u001b[38;5;241m=\u001b[39m launch_sipp(\u001b[38;5;124m\"\u001b[39m\u001b[38;5;124mParis_1_512\u001b[39m\u001b[38;5;124m\"\u001b[39m, \u001b[38;5;241m50\u001b[39m, manhattan_distance, SearchTreeSIPP)\n\u001b[1;32m      4\u001b[0m sipp_ran \u001b[38;5;241m=\u001b[39m launch_sipp(\u001b[38;5;124m\"\u001b[39m\u001b[38;5;124mrandom512-15-0\u001b[39m\u001b[38;5;124m\"\u001b[39m, \u001b[38;5;241m50\u001b[39m, manhattan_distance, SearchTreeSIPP)\n",
      "Cell \u001b[0;32mIn [6], line 26\u001b[0m, in \u001b[0;36mlaunch_sipp\u001b[0;34m(file_name, tasks_count, *args)\u001b[0m\n\u001b[1;32m     23\u001b[0m safe_task_map \u001b[38;5;241m=\u001b[39m SafeMap(grid, task)\n\u001b[1;32m     25\u001b[0m start_time \u001b[38;5;241m=\u001b[39m datetime\u001b[38;5;241m.\u001b[39mnow()\n\u001b[0;32m---> 26\u001b[0m result \u001b[38;5;241m=\u001b[39m \u001b[43msipp\u001b[49m\u001b[43m(\u001b[49m\u001b[43msafe_task_map\u001b[49m\u001b[43m,\u001b[49m\u001b[43m \u001b[49m\u001b[43mstart_i\u001b[49m\u001b[43m,\u001b[49m\u001b[43m \u001b[49m\u001b[43mstart_j\u001b[49m\u001b[43m,\u001b[49m\u001b[43m \u001b[49m\u001b[43mgoal_i\u001b[49m\u001b[43m,\u001b[49m\u001b[43m \u001b[49m\u001b[43mgoal_j\u001b[49m\u001b[43m,\u001b[49m\u001b[43m \u001b[49m\u001b[38;5;241;43m*\u001b[39;49m\u001b[43margs\u001b[49m\u001b[43m)\u001b[49m\n\u001b[1;32m     27\u001b[0m runtime \u001b[38;5;241m=\u001b[39m datetime\u001b[38;5;241m.\u001b[39mnow() \u001b[38;5;241m-\u001b[39m start_time   \n\u001b[1;32m     29\u001b[0m stat[\u001b[38;5;124m\"\u001b[39m\u001b[38;5;124mwasFind\u001b[39m\u001b[38;5;124m\"\u001b[39m]\u001b[38;5;241m.\u001b[39mappend(result[\u001b[38;5;241m0\u001b[39m])\n",
      "File \u001b[0;32m~/Desktop/university/homework/course_3/HeuristicSearch/project/SIPP-and-modifications/src/algo/sipp.py:192\u001b[0m, in \u001b[0;36msipp\u001b[0;34m(safe_grid_map, start_i, start_j, goal_i, goal_j, heuristic_func, search_tree)\u001b[0m\n\u001b[1;32m    189\u001b[0m \u001b[38;5;28;01mif\u001b[39;00m node\u001b[38;5;241m.\u001b[39mi \u001b[38;5;241m==\u001b[39m goal_i \u001b[38;5;129;01mand\u001b[39;00m node\u001b[38;5;241m.\u001b[39mj \u001b[38;5;241m==\u001b[39m goal_j:\n\u001b[1;32m    190\u001b[0m     \u001b[38;5;28;01mreturn\u001b[39;00m (\u001b[38;5;28;01mTrue\u001b[39;00m, node, steps, nodes_created, ast\u001b[38;5;241m.\u001b[39mOPEN, ast\u001b[38;5;241m.\u001b[39mCLOSED)\n\u001b[0;32m--> 192\u001b[0m neighbors \u001b[38;5;241m=\u001b[39m \u001b[43msafe_grid_map\u001b[49m\u001b[38;5;241;43m.\u001b[39;49m\u001b[43mget_neighbors\u001b[49m\u001b[43m(\u001b[49m\u001b[43mnode\u001b[49m\u001b[38;5;241;43m.\u001b[39;49m\u001b[43mi\u001b[49m\u001b[43m,\u001b[49m\u001b[43m \u001b[49m\u001b[43mnode\u001b[49m\u001b[38;5;241;43m.\u001b[39;49m\u001b[43mj\u001b[49m\u001b[43m,\u001b[49m\u001b[43m \u001b[49m\u001b[43mnode\u001b[49m\u001b[38;5;241;43m.\u001b[39;49m\u001b[43mg\u001b[49m\u001b[43m)\u001b[49m\n\u001b[1;32m    193\u001b[0m \u001b[38;5;28;01mfor\u001b[39;00m neighbor \u001b[38;5;129;01min\u001b[39;00m neighbors:\n\u001b[1;32m    194\u001b[0m     neighbor_node \u001b[38;5;241m=\u001b[39m Node(neighbor[\u001b[38;5;241m0\u001b[39m], neighbor[\u001b[38;5;241m1\u001b[39m], neighbor[\u001b[38;5;241m2\u001b[39m],\n\u001b[1;32m    195\u001b[0m                          interval\u001b[38;5;241m=\u001b[39msafe_grid_map\u001b[38;5;241m.\u001b[39mget_interval(neighbor[\u001b[38;5;241m0\u001b[39m], neighbor[\u001b[38;5;241m1\u001b[39m], neighbor[\u001b[38;5;241m2\u001b[39m]),\n\u001b[1;32m    196\u001b[0m                          h\u001b[38;5;241m=\u001b[39mheuristic_func(neighbor[\u001b[38;5;241m0\u001b[39m], neighbor[\u001b[38;5;241m1\u001b[39m], goal_i, goal_j), \n\u001b[1;32m    197\u001b[0m                          parent \u001b[38;5;241m=\u001b[39m node)\n",
      "File \u001b[0;32m~/Desktop/university/homework/course_3/HeuristicSearch/project/SIPP-and-modifications/src/grid.py:326\u001b[0m, in \u001b[0;36mSafeMap.get_neighbors\u001b[0;34m(self, i, j, t)\u001b[0m\n\u001b[1;32m    324\u001b[0m \u001b[38;5;28;01mfor\u001b[39;00m interval \u001b[38;5;129;01min\u001b[39;00m \u001b[38;5;28mrange\u001b[39m(t_interval, f_interval \u001b[38;5;241m+\u001b[39m \u001b[38;5;241m1\u001b[39m):\n\u001b[1;32m    325\u001b[0m     t_in \u001b[38;5;241m=\u001b[39m \u001b[38;5;28mmax\u001b[39m(t, \u001b[38;5;28mself\u001b[39m\u001b[38;5;241m.\u001b[39mintervals[di][dj][interval][\u001b[38;5;241m0\u001b[39m] \u001b[38;5;241m+\u001b[39m \u001b[38;5;241m1\u001b[39m)\n\u001b[0;32m--> 326\u001b[0m     \u001b[38;5;28;01mif\u001b[39;00m t_in \u001b[38;5;241m==\u001b[39m \u001b[38;5;28;43mself\u001b[39;49m\u001b[38;5;241;43m.\u001b[39;49m\u001b[43mintervals\u001b[49m\u001b[43m[\u001b[49m\u001b[43mdi\u001b[49m\u001b[43m]\u001b[49m\u001b[43m[\u001b[49m\u001b[43mdj\u001b[49m\u001b[43m]\u001b[49m\u001b[43m[\u001b[49m\u001b[43minterval\u001b[49m\u001b[43m]\u001b[49m[\u001b[38;5;241m0\u001b[39m] \u001b[38;5;241m+\u001b[39m \u001b[38;5;241m1\u001b[39m \u001b[38;5;129;01mand\u001b[39;00m t_in \u001b[38;5;241m==\u001b[39m f:\n\u001b[1;32m    327\u001b[0m         in_interval \u001b[38;5;241m=\u001b[39m \u001b[38;5;28mself\u001b[39m\u001b[38;5;241m.\u001b[39mget_interval(i, j, t_in)\n\u001b[1;32m    328\u001b[0m         \u001b[38;5;28;01mif\u001b[39;00m (\u001b[38;5;241m-\u001b[39md[\u001b[38;5;241m0\u001b[39m], \u001b[38;5;241m-\u001b[39md[\u001b[38;5;241m1\u001b[39m]) \u001b[38;5;129;01min\u001b[39;00m \u001b[38;5;28mself\u001b[39m\u001b[38;5;241m.\u001b[39mintervals[di][dj][interval][\u001b[38;5;241m2\u001b[39m]:\n",
      "\u001b[0;31mKeyboardInterrupt\u001b[0m: "
     ]
    }
   ],
   "source": [
    "sipp_small = launch_sipp(\"small\", 5, manhattan_distance, SearchTreeSIPP)\n",
    "sipp_room = launch_sipp(\"32room_007\", 50, manhattan_distance, SearchTreeSIPP)\n",
    "sipp_paris = launch_sipp(\"Paris_1_512\", 50, manhattan_distance, SearchTreeSIPP)\n",
    "sipp_ran = launch_sipp(\"random512-15-0\", 50, manhattan_distance, SearchTreeSIPP)\n"
   ]
  },
  {
   "cell_type": "code",
   "execution_count": 19,
   "metadata": {},
   "outputs": [
    {
     "name": "stderr",
     "output_type": "stream",
     "text": [
      "3it [00:00, 25.85it/s]"
     ]
    },
    {
     "name": "stdout",
     "output_type": "stream",
     "text": [
      "Path found! Length: 52. Coefficient: 1.0. Nodes created: 692. Number of steps: 216. Time: 0:00:00.008644\n",
      "Path found! Length: 52. Coefficient: 1.0. Nodes created: 1293. Number of steps: 225. Time: 0:00:00.013215\n",
      "Path found! Length: 70. Coefficient: 1.0. Nodes created: 2870. Number of steps: 297. Time: 0:00:00.022659\n",
      "Path found! Length: 54. Coefficient: 1.0. Nodes created: 6255. Number of steps: 253. Time: 0:00:00.061977\n"
     ]
    },
    {
     "name": "stderr",
     "output_type": "stream",
     "text": [
      "\r",
      "5it [00:00, 10.04it/s]"
     ]
    },
    {
     "name": "stdout",
     "output_type": "stream",
     "text": [
      "Path found! Length: 53. Coefficient: 1.0. Nodes created: 12450. Number of steps: 327. Time: 0:00:00.115569\n"
     ]
    },
    {
     "name": "stderr",
     "output_type": "stream",
     "text": [
      "\n",
      "0it [00:00, ?it/s]"
     ]
    },
    {
     "name": "stdout",
     "output_type": "stream",
     "text": [
      "Path found! Length: 114. Coefficient: 1.0363636363636364. Nodes created: 1720. Number of steps: 449. Time: 0:00:00.013492\n"
     ]
    },
    {
     "name": "stderr",
     "output_type": "stream",
     "text": [
      "3it [00:00,  4.34it/s]"
     ]
    },
    {
     "name": "stdout",
     "output_type": "stream",
     "text": [
      "Path found! Length: 114. Coefficient: 1.0363636363636364. Nodes created: 3668. Number of steps: 449. Time: 0:00:00.028874\n",
      "Path found! Length: 114. Coefficient: 1.0363636363636364. Nodes created: 6439. Number of steps: 466. Time: 0:00:00.053452\n"
     ]
    },
    {
     "name": "stderr",
     "output_type": "stream",
     "text": [
      "\r",
      "4it [00:01,  2.80it/s]"
     ]
    },
    {
     "name": "stdout",
     "output_type": "stream",
     "text": [
      "Path found! Length: 114. Coefficient: 1.0363636363636364. Nodes created: 4453. Number of steps: 445. Time: 0:00:00.417421\n"
     ]
    },
    {
     "name": "stderr",
     "output_type": "stream",
     "text": [
      "\r",
      "5it [00:01,  2.83it/s]"
     ]
    },
    {
     "name": "stdout",
     "output_type": "stream",
     "text": [
      "Path found! Length: 114. Coefficient: 1.0363636363636364. Nodes created: 7257. Number of steps: 445. Time: 0:00:00.061006\n"
     ]
    },
    {
     "name": "stderr",
     "output_type": "stream",
     "text": [
      "\r",
      "6it [00:02,  2.02it/s]"
     ]
    },
    {
     "name": "stdout",
     "output_type": "stream",
     "text": [
      "Path found! Length: 114. Coefficient: 1.0363636363636364. Nodes created: 10512. Number of steps: 448. Time: 0:00:00.099411\n"
     ]
    },
    {
     "name": "stderr",
     "output_type": "stream",
     "text": [
      "\r",
      "7it [00:03,  1.71it/s]"
     ]
    },
    {
     "name": "stdout",
     "output_type": "stream",
     "text": [
      "Path found! Length: 114. Coefficient: 1.0363636363636364. Nodes created: 4621. Number of steps: 455. Time: 0:00:00.041136\n"
     ]
    },
    {
     "name": "stderr",
     "output_type": "stream",
     "text": [
      "\r",
      "8it [00:04,  1.45it/s]"
     ]
    },
    {
     "name": "stdout",
     "output_type": "stream",
     "text": [
      "Path found! Length: 114. Coefficient: 1.0363636363636364. Nodes created: 8515. Number of steps: 442. Time: 0:00:00.488678\n"
     ]
    },
    {
     "name": "stderr",
     "output_type": "stream",
     "text": [
      "\r",
      "9it [00:04,  1.71it/s]"
     ]
    },
    {
     "name": "stdout",
     "output_type": "stream",
     "text": [
      "Path found! Length: 112. Coefficient: 1.018181818181818. Nodes created: 15234. Number of steps: 374. Time: 0:00:00.145346\n"
     ]
    },
    {
     "name": "stderr",
     "output_type": "stream",
     "text": [
      "\r",
      "10it [00:05,  1.37it/s]"
     ]
    },
    {
     "name": "stdout",
     "output_type": "stream",
     "text": [
      "Path found! Length: 116. Coefficient: 1.0545454545454545. Nodes created: 17290. Number of steps: 394. Time: 0:00:00.157824\n"
     ]
    },
    {
     "name": "stderr",
     "output_type": "stream",
     "text": [
      "\r",
      "11it [00:07,  1.01it/s]"
     ]
    },
    {
     "name": "stdout",
     "output_type": "stream",
     "text": [
      "Path found! Length: 114. Coefficient: 1.0363636363636364. Nodes created: 17635. Number of steps: 381. Time: 0:00:00.586751\n"
     ]
    },
    {
     "name": "stderr",
     "output_type": "stream",
     "text": [
      "\r",
      "12it [00:08,  1.17s/it]"
     ]
    },
    {
     "name": "stdout",
     "output_type": "stream",
     "text": [
      "Path found! Length: 114. Coefficient: 1.0363636363636364. Nodes created: 20558. Number of steps: 465. Time: 0:00:00.197824\n"
     ]
    },
    {
     "name": "stderr",
     "output_type": "stream",
     "text": [
      "\r",
      "13it [00:10,  1.26s/it]"
     ]
    },
    {
     "name": "stdout",
     "output_type": "stream",
     "text": [
      "Path found! Length: 114. Coefficient: 1.0363636363636364. Nodes created: 25558. Number of steps: 455. Time: 0:00:00.352380\n"
     ]
    },
    {
     "name": "stderr",
     "output_type": "stream",
     "text": [
      "\r",
      "14it [00:11,  1.27s/it]"
     ]
    },
    {
     "name": "stdout",
     "output_type": "stream",
     "text": [
      "Path found! Length: 117. Coefficient: 1.0636363636363637. Nodes created: 23284. Number of steps: 520. Time: 0:00:00.306926\n"
     ]
    },
    {
     "name": "stderr",
     "output_type": "stream",
     "text": [
      "\r",
      "15it [00:13,  1.50s/it]"
     ]
    },
    {
     "name": "stdout",
     "output_type": "stream",
     "text": [
      "Path found! Length: 114. Coefficient: 1.0363636363636364. Nodes created: 15863. Number of steps: 452. Time: 0:00:00.163541\n"
     ]
    },
    {
     "name": "stderr",
     "output_type": "stream",
     "text": [
      "\r",
      "16it [00:15,  1.56s/it]"
     ]
    },
    {
     "name": "stdout",
     "output_type": "stream",
     "text": [
      "Path found! Length: 116. Coefficient: 1.0545454545454545. Nodes created: 26696. Number of steps: 435. Time: 0:00:00.292499\n"
     ]
    },
    {
     "name": "stderr",
     "output_type": "stream",
     "text": [
      "\r",
      "17it [00:16,  1.54s/it]"
     ]
    },
    {
     "name": "stdout",
     "output_type": "stream",
     "text": [
      "Path found! Length: 115. Coefficient: 1.0454545454545454. Nodes created: 11313. Number of steps: 448. Time: 0:00:00.115022\n"
     ]
    },
    {
     "name": "stderr",
     "output_type": "stream",
     "text": [
      "17it [00:18,  1.08s/it]\n"
     ]
    },
    {
     "ename": "KeyboardInterrupt",
     "evalue": "",
     "output_type": "error",
     "traceback": [
      "\u001b[0;31m---------------------------------------------------------------------------\u001b[0m",
      "\u001b[0;31mKeyboardInterrupt\u001b[0m                         Traceback (most recent call last)",
      "Cell \u001b[0;32mIn [19], line 2\u001b[0m\n\u001b[1;32m      1\u001b[0m wsippr_small \u001b[38;5;241m=\u001b[39m launch_wsipp(\u001b[38;5;124m\"\u001b[39m\u001b[38;5;124msmall\u001b[39m\u001b[38;5;124m\"\u001b[39m, wsipp_r, \u001b[38;5;241m5\u001b[39m, \u001b[38;5;241m1.4\u001b[39m, manhattan_distance, SearchTreeWSIPPR)\n\u001b[0;32m----> 2\u001b[0m wsippr_room \u001b[38;5;241m=\u001b[39m \u001b[43mlaunch_wsipp\u001b[49m\u001b[43m(\u001b[49m\u001b[38;5;124;43m\"\u001b[39;49m\u001b[38;5;124;43m32room_007\u001b[39;49m\u001b[38;5;124;43m\"\u001b[39;49m\u001b[43m,\u001b[49m\u001b[43m \u001b[49m\u001b[43mwsipp_r\u001b[49m\u001b[43m,\u001b[49m\u001b[43m \u001b[49m\u001b[38;5;241;43m50\u001b[39;49m\u001b[43m,\u001b[49m\u001b[43m \u001b[49m\u001b[38;5;241;43m1.4\u001b[39;49m\u001b[43m,\u001b[49m\u001b[43m \u001b[49m\u001b[43mmanhattan_distance\u001b[49m\u001b[43m,\u001b[49m\u001b[43m \u001b[49m\u001b[43mSearchTreeWSIPPR\u001b[49m\u001b[43m)\u001b[49m\n\u001b[1;32m      3\u001b[0m wsippr_paris \u001b[38;5;241m=\u001b[39m launch_wsipp(\u001b[38;5;124m\"\u001b[39m\u001b[38;5;124mParis_1_512\u001b[39m\u001b[38;5;124m\"\u001b[39m, wsipp_r, \u001b[38;5;241m50\u001b[39m, \u001b[38;5;241m1.4\u001b[39m, manhattan_distance, SearchTreeWSIPPR)\n\u001b[1;32m      4\u001b[0m wsippr_ran \u001b[38;5;241m=\u001b[39m launch_wsipp(\u001b[38;5;124m\"\u001b[39m\u001b[38;5;124mrandom512-15-0\u001b[39m\u001b[38;5;124m\"\u001b[39m, wsipp_r, \u001b[38;5;241m50\u001b[39m, \u001b[38;5;241m1.4\u001b[39m, manhattan_distance, SearchTreeWSIPPR)\n",
      "Cell \u001b[0;32mIn [18], line 26\u001b[0m, in \u001b[0;36mlaunch_wsipp\u001b[0;34m(file_name, search_fun, tasks_count, w, *args)\u001b[0m\n\u001b[1;32m     22\u001b[0m     \u001b[38;5;28;01mfor\u001b[39;00m i, task \u001b[38;5;129;01min\u001b[39;00m tqdm(\u001b[38;5;28menumerate\u001b[39m(tasks)):\n\u001b[1;32m     23\u001b[0m \u001b[38;5;66;03m#         try:   \u001b[39;00m\n\u001b[1;32m     24\u001b[0m             safe_task_map \u001b[38;5;241m=\u001b[39m SafeMap(grid, task)\n\u001b[0;32m---> 26\u001b[0m             expected \u001b[38;5;241m=\u001b[39m \u001b[43msipp\u001b[49m\u001b[43m(\u001b[49m\u001b[43msafe_task_map\u001b[49m\u001b[43m,\u001b[49m\u001b[43m \u001b[49m\u001b[43mstart_i\u001b[49m\u001b[43m,\u001b[49m\u001b[43m \u001b[49m\u001b[43mstart_j\u001b[49m\u001b[43m,\u001b[49m\u001b[43m \u001b[49m\u001b[43mgoal_i\u001b[49m\u001b[43m,\u001b[49m\u001b[43m \u001b[49m\u001b[43mgoal_j\u001b[49m\u001b[43m,\u001b[49m\u001b[43m \u001b[49m\u001b[43mmanhattan_distance\u001b[49m\u001b[43m,\u001b[49m\u001b[43m \u001b[49m\u001b[43mSearchTreeSIPP\u001b[49m\u001b[43m)\u001b[49m\n\u001b[1;32m     27\u001b[0m             expected_len \u001b[38;5;241m=\u001b[39m make_path(expected[\u001b[38;5;241m1\u001b[39m])[\u001b[38;5;241m1\u001b[39m]\n\u001b[1;32m     29\u001b[0m             start_time \u001b[38;5;241m=\u001b[39m datetime\u001b[38;5;241m.\u001b[39mnow()\n",
      "File \u001b[0;32m~/Desktop/university/homework/course_3/HeuristicSearch/project/SIPP-and-modifications/src/algo/sipp.py:200\u001b[0m, in \u001b[0;36msipp\u001b[0;34m(safe_grid_map, start_i, start_j, goal_i, goal_j, heuristic_func, search_tree)\u001b[0m\n\u001b[1;32m    198\u001b[0m         nodes_created \u001b[38;5;241m+\u001b[39m\u001b[38;5;241m=\u001b[39m \u001b[38;5;241m1\u001b[39m\n\u001b[1;32m    199\u001b[0m         \u001b[38;5;28;01mif\u001b[39;00m \u001b[38;5;129;01mnot\u001b[39;00m ast\u001b[38;5;241m.\u001b[39mwas_expanded(neighbor_node):\n\u001b[0;32m--> 200\u001b[0m             \u001b[43mast\u001b[49m\u001b[38;5;241;43m.\u001b[39;49m\u001b[43madd_to_open\u001b[49m\u001b[43m(\u001b[49m\u001b[43mneighbor_node\u001b[49m\u001b[43m)\u001b[49m\n\u001b[1;32m    202\u001b[0m     ast\u001b[38;5;241m.\u001b[39madd_to_closed(node)\n\u001b[1;32m    204\u001b[0m \u001b[38;5;28;01mreturn\u001b[39;00m \u001b[38;5;28;01mFalse\u001b[39;00m, \u001b[38;5;28;01mNone\u001b[39;00m, steps, nodes_created, ast\u001b[38;5;241m.\u001b[39mOPEN, ast\u001b[38;5;241m.\u001b[39mCLOSED\n",
      "File \u001b[0;32m~/Desktop/university/homework/course_3/HeuristicSearch/project/SIPP-and-modifications/src/algo/sipp.py:89\u001b[0m, in \u001b[0;36mSearchTree.add_to_open\u001b[0;34m(self, item)\u001b[0m\n\u001b[1;32m     88\u001b[0m \u001b[38;5;28;01mdef\u001b[39;00m \u001b[38;5;21madd_to_open\u001b[39m(\u001b[38;5;28mself\u001b[39m, item):        \n\u001b[0;32m---> 89\u001b[0m     \u001b[38;5;28;43mself\u001b[39;49m\u001b[38;5;241;43m.\u001b[39;49m\u001b[43m_open\u001b[49m\u001b[38;5;241;43m.\u001b[39;49m\u001b[43mput\u001b[49m\u001b[43m(\u001b[49m\u001b[43mitem\u001b[49m\u001b[43m)\u001b[49m \n\u001b[1;32m     90\u001b[0m     \u001b[38;5;28mself\u001b[39m\u001b[38;5;241m.\u001b[39m_open_size \u001b[38;5;241m+\u001b[39m\u001b[38;5;241m=\u001b[39m \u001b[38;5;241m1\u001b[39m\n\u001b[1;32m     91\u001b[0m     \u001b[38;5;28;01mreturn\u001b[39;00m\n",
      "File \u001b[0;32m/usr/lib/python3.8/queue.py:151\u001b[0m, in \u001b[0;36mQueue.put\u001b[0;34m(self, item, block, timeout)\u001b[0m\n\u001b[1;32m    149\u001b[0m \u001b[38;5;28mself\u001b[39m\u001b[38;5;241m.\u001b[39m_put(item)\n\u001b[1;32m    150\u001b[0m \u001b[38;5;28mself\u001b[39m\u001b[38;5;241m.\u001b[39munfinished_tasks \u001b[38;5;241m+\u001b[39m\u001b[38;5;241m=\u001b[39m \u001b[38;5;241m1\u001b[39m\n\u001b[0;32m--> 151\u001b[0m \u001b[38;5;28;43mself\u001b[39;49m\u001b[38;5;241;43m.\u001b[39;49m\u001b[43mnot_empty\u001b[49m\u001b[38;5;241;43m.\u001b[39;49m\u001b[43mnotify\u001b[49m\u001b[43m(\u001b[49m\u001b[43m)\u001b[49m\n",
      "File \u001b[0;32m/usr/lib/python3.8/threading.py:354\u001b[0m, in \u001b[0;36mCondition.notify\u001b[0;34m(self, n)\u001b[0m\n\u001b[1;32m    352\u001b[0m     \u001b[38;5;28;01mraise\u001b[39;00m \u001b[38;5;167;01mRuntimeError\u001b[39;00m(\u001b[38;5;124m\"\u001b[39m\u001b[38;5;124mcannot notify on un-acquired lock\u001b[39m\u001b[38;5;124m\"\u001b[39m)\n\u001b[1;32m    353\u001b[0m all_waiters \u001b[38;5;241m=\u001b[39m \u001b[38;5;28mself\u001b[39m\u001b[38;5;241m.\u001b[39m_waiters\n\u001b[0;32m--> 354\u001b[0m waiters_to_notify \u001b[38;5;241m=\u001b[39m \u001b[43m_deque\u001b[49m\u001b[43m(\u001b[49m\u001b[43m_islice\u001b[49m\u001b[43m(\u001b[49m\u001b[43mall_waiters\u001b[49m\u001b[43m,\u001b[49m\u001b[43m \u001b[49m\u001b[43mn\u001b[49m\u001b[43m)\u001b[49m\u001b[43m)\u001b[49m\n\u001b[1;32m    355\u001b[0m \u001b[38;5;28;01mif\u001b[39;00m \u001b[38;5;129;01mnot\u001b[39;00m waiters_to_notify:\n\u001b[1;32m    356\u001b[0m     \u001b[38;5;28;01mreturn\u001b[39;00m\n",
      "\u001b[0;31mKeyboardInterrupt\u001b[0m: "
     ]
    }
   ],
   "source": [
    "wsippr_small = launch_wsipp(\"small\", wsipp_r, 5, 1.4, manhattan_distance, SearchTreeWSIPPR)\n",
    "wsippr_room = launch_wsipp(\"32room_007\", wsipp_r, 50, 1.4, manhattan_distance, SearchTreeWSIPPR)\n",
    "wsippr_paris = launch_wsipp(\"Paris_1_512\", wsipp_r, 50, 1.4, manhattan_distance, SearchTreeWSIPPR)\n",
    "wsippr_ran = launch_wsipp(\"random512-15-0\", wsipp_r, 50, 1.4, manhattan_distance, SearchTreeWSIPPR)\n"
   ]
  },
  {
   "cell_type": "code",
   "execution_count": 1,
   "metadata": {},
   "outputs": [],
   "source": [
    "labels = [\"A*\", \"WA* w=1.05\", \"WA* w=1.15\", \"WA* w=1.5\", \"WA* w=2\", \"WA* w=3\", \"WA* w=5\", \"WA* w=10\"]\n",
    "labels_small = [\"A*\", \"1.05\", \"1.15\", \"1.5\", \"2\", \"3\", \"5\", \"10\"]\n",
    "\n",
    "\n",
    "def label_algo(i):\n",
    "    return labels[i]\n",
    "    \n",
    "\n",
    "def color_algo(i):\n",
    "    if i == 0:\n",
    "        return \"red\"\n",
    "    if i == 1:\n",
    "        return \"yellow\"\n",
    "    if i == 2:\n",
    "        return \"green\"\n",
    "    if i == 3:\n",
    "        return \"blue\"\n",
    "    if i == 4:\n",
    "        return \"grey\"\n",
    "    if i == 5:\n",
    "        return \"black\"\n",
    "    if i == 6:\n",
    "        return \"purple\"\n",
    "    if i == 7:\n",
    "        return \"pink\"\n"
   ]
  },
  {
   "cell_type": "code",
   "execution_count": null,
   "metadata": {},
   "outputs": [],
   "source": [
    "def coef_grafics():\n",
    "    \n",
    "    xmin = 0\n",
    "    xmax = 120\n",
    "    ymin = 0.8\n",
    "    ymax = 5\n",
    "\n",
    "    x = np.linspace(xmin, xmax, 10000)\n",
    "    \n",
    "    \n",
    "    for i, stat in enumerate(all_stat_32room_007):\n",
    "        plt.plot(list(range(len(stat[\"coef\"]))), stat[\"coef\"], label=label_algo(i), color=color_algo(i))\n",
    "        \n",
    "        plt.grid(ls=':')\n",
    "        plt.xlabel('Сложность задания'), plt.ylabel('Коэффициент длины пути относительно оптимального')\n",
    "        plt.legend(loc = 'upper left')\n",
    "          \n",
    "    plt.title (\"32room_007\") \n",
    "    plt.show()\n",
    "    \n",
    "    \n",
    "    for i, stat in enumerate(all_stat_ht_bartrand_n):\n",
    "        plt.plot(list(range(len(stat[\"coef\"]))), stat[\"coef\"], label=label_algo(i), color=color_algo(i))\n",
    "        \n",
    "        plt.grid(ls=':')\n",
    "        plt.xlabel('Сложность задания'), plt.ylabel('Коэффициент длины пути относительно оптимального')\n",
    "        plt.legend(loc = 'upper left')\n",
    "          \n",
    "    plt.title (\"ht_bartrand_n\") \n",
    "    plt.show()\n",
    "    \n",
    "    \n",
    "    for i, stat in enumerate(all_stat_Paris_1_512):\n",
    "        plt.plot(list(range(len(stat[\"coef\"]))), stat[\"coef\"], label=label_algo(i), color=color_algo(i))\n",
    "        \n",
    "        plt.grid(ls=':')\n",
    "        plt.xlabel('Сложность задания'), plt.ylabel('Коэффициент длины пути относительно оптимального')\n",
    "        plt.legend(loc = 'upper left')\n",
    "          \n",
    "    plt.title (\"Paris_1_512\") \n",
    "    plt.show()\n",
    "    \n",
    "    \n",
    "    for i, stat in enumerate(all_stat_random512_15_0):\n",
    "        plt.plot(list(range(len(stat[\"coef\"]))), stat[\"coef\"], label=label_algo(i), color=color_algo(i))\n",
    "        \n",
    "        plt.grid(ls=':')\n",
    "        plt.xlabel('Сложность задания'), plt.ylabel('Коэффициент длины пути относительно оптимального')\n",
    "        plt.legend(loc = 'upper left')\n",
    "          \n",
    "    plt.title (\"random512_15_0\") \n",
    "    plt.show()\n",
    "    \n",
    "    \n",
    "coef_grafics()    "
   ]
  },
  {
   "cell_type": "code",
   "execution_count": null,
   "metadata": {},
   "outputs": [],
   "source": [
    "def runtime_grafics():\n",
    "    \n",
    "    xmin = 0\n",
    "    xmax = 120\n",
    "    ymin = 0.8\n",
    "    ymax = 10\n",
    "\n",
    "    x = np.linspace(xmin, xmax, 10000)\n",
    "    \n",
    "    \n",
    "    for i, stat in enumerate(all_stat_32room_007):\n",
    "        plt.plot(list(range(len(stat[\"time\"]))), list(map(lambda t: t.total_seconds(), stat[\"time\"])), label=label_algo(i), color=color_algo(i))\n",
    "        \n",
    "        plt.grid(ls=':')\n",
    "        plt.xlabel('Сложность задания'), plt.ylabel('Время работы')\n",
    "        plt.legend(loc = 'upper left')\n",
    "          \n",
    "    plt.title (\"32room_007\") \n",
    "    plt.show()\n",
    "    \n",
    "    \n",
    "    for i, stat in enumerate(all_stat_ht_bartrand_n):\n",
    "        plt.plot(list(range(len(stat[\"time\"]))), list(map(lambda t: t.total_seconds(), stat[\"time\"])), label=label_algo(i), color=color_algo(i))\n",
    "        \n",
    "        plt.grid(ls=':')\n",
    "        plt.xlabel('Сложность задания'), plt.ylabel('Время работы')\n",
    "        plt.legend(loc = 'upper left')\n",
    "          \n",
    "    plt.title (\"ht_bartrand_n\") \n",
    "    plt.show()\n",
    "    \n",
    "    \n",
    "    for i, stat in enumerate(all_stat_Paris_1_512):\n",
    "        plt.plot(list(range(len(stat[\"time\"]))), list(map(lambda t: t.total_seconds(), stat[\"time\"])), label=label_algo(i), color=color_algo(i))\n",
    "        \n",
    "        plt.grid(ls=':')\n",
    "        plt.xlabel('Сложность задания'), plt.ylabel('Время работы')\n",
    "        plt.legend(loc = 'upper left')\n",
    "          \n",
    "    plt.title (\"Paris_1_512\") \n",
    "    plt.show()\n",
    "    \n",
    "    \n",
    "    for i, stat in enumerate(all_stat_random512_15_0):\n",
    "        plt.plot(list(range(len(stat[\"time\"]))), list(map(lambda t: t.total_seconds(), stat[\"time\"])), label=label_algo(i), color=color_algo(i))\n",
    "        \n",
    "        plt.grid(ls=':')\n",
    "        plt.xlabel('Сложность задания'), plt.ylabel('Время работы')\n",
    "        plt.legend(loc = 'upper left')\n",
    "          \n",
    "    plt.title (\"random512_15_0\") \n",
    "    plt.show()\n",
    "    \n",
    "    \n",
    "runtime_grafics()    "
   ]
  },
  {
   "cell_type": "code",
   "execution_count": null,
   "metadata": {},
   "outputs": [],
   "source": [
    "def runtime_boxes():\n",
    "    \n",
    "    plt.figure(figsize=(10, 10))\n",
    "    \n",
    "    plt.subplot(2, 2, 1)\n",
    "    means = []\n",
    "    for i, stat in enumerate(all_stat_32room_007):\n",
    "        stat_runtime_norm = []\n",
    "        for i, time in enumerate(stat[\"time\"]):\n",
    "            stat_runtime_norm.append(time.total_seconds() / all_stat_32room_007[0][\"time\"][i].total_seconds())\n",
    "        \n",
    "        means.append(np.array(stat_runtime_norm))\n",
    "     \n",
    "    plt.boxplot(means, labels=labels_small)    \n",
    "    plt.title (\"32room_007\", fontsize=10) \n",
    "   \n",
    "\n",
    "    plt.subplot(2, 2, 2)\n",
    "    means = []\n",
    "    for i, stat in enumerate(all_stat_ht_bartrand_n):\n",
    "        stat_runtime_norm = []\n",
    "        for i, time in enumerate(stat[\"time\"]):\n",
    "            stat_runtime_norm.append(time.total_seconds() / all_stat_ht_bartrand_n[0][\"time\"][i].total_seconds())\n",
    "        \n",
    "        means.append(np.array(stat_runtime_norm))\n",
    "     \n",
    "    plt.boxplot(means, labels=labels_small)    \n",
    "    plt.title (\"ht_bartrand_n\", fontsize=10) \n",
    "    \n",
    "    \n",
    "    plt.subplot(2, 2, 3)\n",
    "    means = []\n",
    "    for i, stat in enumerate(all_stat_Paris_1_512):\n",
    "        stat_runtime_norm = []\n",
    "        for i, time in enumerate(stat[\"time\"]):\n",
    "            stat_runtime_norm.append(time.total_seconds() / all_stat_Paris_1_512[0][\"time\"][i].total_seconds())\n",
    "        \n",
    "        means.append(np.array(stat_runtime_norm))\n",
    "     \n",
    "    plt.boxplot(means, labels=labels_small)    \n",
    "    plt.title (\"Paris_1_512\", fontsize=10) \n",
    "     \n",
    "    \n",
    "    plt.subplot(2, 2, 4)\n",
    "    means = []\n",
    "    for i, stat in enumerate(all_stat_random512_15_0):\n",
    "        stat_runtime_norm = []\n",
    "        for i, time in enumerate(stat[\"time\"]):\n",
    "            stat_runtime_norm.append(time.total_seconds() / all_stat_random512_15_0[0][\"time\"][i].total_seconds())\n",
    "        \n",
    "        means.append(np.array(stat_runtime_norm))\n",
    "     \n",
    "    plt.boxplot(means, labels=labels_small)    \n",
    "    plt.title (\"random512_15_0\", fontsize=10) \n",
    "     \n",
    "    \n",
    "    plt.subplots_adjust(wspace=0.2, hspace=0.4)\n",
    "    plt.show()\n",
    "    \n",
    "runtime_boxes()    "
   ]
  }
 ],
 "metadata": {
  "kernelspec": {
   "display_name": "Python 3 (ipykernel)",
   "language": "python",
   "name": "python3"
  },
  "language_info": {
   "codemirror_mode": {
    "name": "ipython",
    "version": 3
   },
   "file_extension": ".py",
   "mimetype": "text/x-python",
   "name": "python",
   "nbconvert_exporter": "python",
   "pygments_lexer": "ipython3",
   "version": "3.8.10"
  }
 },
 "nbformat": 4,
 "nbformat_minor": 2
}
